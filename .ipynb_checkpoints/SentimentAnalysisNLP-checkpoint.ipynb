{
 "cells": [
  {
   "cell_type": "code",
   "execution_count": 3,
   "id": "bca27b85",
   "metadata": {},
   "outputs": [],
   "source": [
    "import pandas as pd\n",
    "\n",
    "from nltk.corpus import stopwords\n",
    "from nltk.tokenize import word_tokenize\n",
    "from nltk.stem import WordNetLemmatizer\n",
    "\n",
    "from sklearn.model_selection import train_test_split\n",
    "from sklearn.feature_extraction.text import CountVectorizer, TfidfVectorizer\n",
    "from sklearn.naive_bayes import MultinomialNB\n",
    "from sklearn.metrics import accuracy_score\n",
    "from sklearn.linear_model import LogisticRegression\n",
    "from sklearn.metrics import confusion_matrix\n",
    "\n",
    "import matplotlib.pyplot as plt\n",
    "import seaborn as sns\n",
    "import re"
   ]
  },
  {
   "cell_type": "markdown",
   "id": "fc14c402",
   "metadata": {},
   "source": [
    "##### DataLoading"
   ]
  },
  {
   "cell_type": "code",
   "execution_count": 2,
   "id": "b8ffd996",
   "metadata": {},
   "outputs": [],
   "source": [
    "df_full = pd.read_csv('movie.csv')"
   ]
  },
  {
   "cell_type": "code",
   "execution_count": 4,
   "id": "df57b9b6",
   "metadata": {
    "scrolled": true
   },
   "outputs": [
    {
     "data": {
      "text/html": [
       "<div>\n",
       "<style scoped>\n",
       "    .dataframe tbody tr th:only-of-type {\n",
       "        vertical-align: middle;\n",
       "    }\n",
       "\n",
       "    .dataframe tbody tr th {\n",
       "        vertical-align: top;\n",
       "    }\n",
       "\n",
       "    .dataframe thead th {\n",
       "        text-align: right;\n",
       "    }\n",
       "</style>\n",
       "<table border=\"1\" class=\"dataframe\">\n",
       "  <thead>\n",
       "    <tr style=\"text-align: right;\">\n",
       "      <th></th>\n",
       "      <th>text</th>\n",
       "      <th>label</th>\n",
       "    </tr>\n",
       "  </thead>\n",
       "  <tbody>\n",
       "    <tr>\n",
       "      <th>0</th>\n",
       "      <td>I grew up (b. 1965) watching and loving the Th...</td>\n",
       "      <td>0</td>\n",
       "    </tr>\n",
       "    <tr>\n",
       "      <th>1</th>\n",
       "      <td>When I put this movie in my DVD player, and sa...</td>\n",
       "      <td>0</td>\n",
       "    </tr>\n",
       "    <tr>\n",
       "      <th>2</th>\n",
       "      <td>Why do people who do not know what a particula...</td>\n",
       "      <td>0</td>\n",
       "    </tr>\n",
       "    <tr>\n",
       "      <th>3</th>\n",
       "      <td>Even though I have great interest in Biblical ...</td>\n",
       "      <td>0</td>\n",
       "    </tr>\n",
       "    <tr>\n",
       "      <th>4</th>\n",
       "      <td>Im a die hard Dads Army fan and nothing will e...</td>\n",
       "      <td>1</td>\n",
       "    </tr>\n",
       "  </tbody>\n",
       "</table>\n",
       "</div>"
      ],
      "text/plain": [
       "                                                text  label\n",
       "0  I grew up (b. 1965) watching and loving the Th...      0\n",
       "1  When I put this movie in my DVD player, and sa...      0\n",
       "2  Why do people who do not know what a particula...      0\n",
       "3  Even though I have great interest in Biblical ...      0\n",
       "4  Im a die hard Dads Army fan and nothing will e...      1"
      ]
     },
     "execution_count": 4,
     "metadata": {},
     "output_type": "execute_result"
    }
   ],
   "source": [
    "df_full.head()"
   ]
  },
  {
   "cell_type": "code",
   "execution_count": 5,
   "id": "048d9199",
   "metadata": {},
   "outputs": [
    {
     "data": {
      "text/plain": [
       "label\n",
       "0    20019\n",
       "1    19981\n",
       "Name: label, dtype: int64"
      ]
     },
     "execution_count": 5,
     "metadata": {},
     "output_type": "execute_result"
    }
   ],
   "source": [
    "df_full.groupby(['label'])['label'].count()"
   ]
  },
  {
   "cell_type": "markdown",
   "id": "fee7a805",
   "metadata": {},
   "source": [
    "##### Sample Negative Review"
   ]
  },
  {
   "cell_type": "code",
   "execution_count": 6,
   "id": "90e28d7c",
   "metadata": {
    "scrolled": true
   },
   "outputs": [
    {
     "data": {
      "text/plain": [
       "'I grew up (b. 1965) watching and loving the Thunderbirds. All my mates at school watched. We played \"Thunderbirds\" before school, during lunch and after school. We all wanted to be Virgil or Scott. No one wanted to be Alan. Counting down from 5 became an art form. I took my children to see the movie hoping they would get a glimpse of what I loved as a child. How bitterly disappointing. The only high point was the snappy theme tune. Not that it could compare with the original score of the Thunderbirds. Thankfully early Saturday mornings one television channel still plays reruns of the series Gerry Anderson and his wife created. Jonatha Frakes should hand in his directors chair, his version was completely hopeless. A waste of film. Utter rubbish. A CGI remake may be acceptable but replacing marionettes with Homo sapiens subsp. sapiens was a huge error of judgment.'"
      ]
     },
     "execution_count": 6,
     "metadata": {},
     "output_type": "execute_result"
    }
   ],
   "source": [
    "df_full.loc[0, 'text']"
   ]
  },
  {
   "cell_type": "code",
   "execution_count": 7,
   "id": "8616224e",
   "metadata": {},
   "outputs": [
    {
     "data": {
      "text/plain": [
       "text     I grew up (b. 1965) watching and loving the Th...\n",
       "label                                                    0\n",
       "Name: 0, dtype: object"
      ]
     },
     "execution_count": 7,
     "metadata": {},
     "output_type": "execute_result"
    }
   ],
   "source": [
    "df_full.loc[0,['text', 'label']]"
   ]
  },
  {
   "cell_type": "markdown",
   "id": "f392c252",
   "metadata": {},
   "source": [
    "##### Data Preprocessing"
   ]
  },
  {
   "cell_type": "code",
   "execution_count": 20,
   "id": "2892c3a1",
   "metadata": {},
   "outputs": [
    {
     "name": "stderr",
     "output_type": "stream",
     "text": [
      "[nltk_data] Downloading package stopwords to /home/anuj/nltk_data...\n",
      "[nltk_data]   Package stopwords is already up-to-date!\n",
      "[nltk_data] Downloading package punkt to /home/anuj/nltk_data...\n",
      "[nltk_data]   Package punkt is already up-to-date!\n",
      "[nltk_data] Downloading package wordnet to /home/anuj/nltk_data...\n",
      "[nltk_data]   Package wordnet is already up-to-date!\n",
      "[nltk_data] Downloading package omw-1.4 to /home/anuj/nltk_data...\n"
     ]
    },
    {
     "data": {
      "text/plain": [
       "True"
      ]
     },
     "execution_count": 20,
     "metadata": {},
     "output_type": "execute_result"
    }
   ],
   "source": [
    "import nltk\n",
    "nltk.download('stopwords')\n",
    "nltk.download('punkt')\n",
    "nltk.download('wordnet')\n",
    "nltk.download('omw-1.4')\n"
   ]
  },
  {
   "cell_type": "code",
   "execution_count": 9,
   "id": "ff07d4bf",
   "metadata": {},
   "outputs": [],
   "source": [
    "stop_words = stopwords.words('english')"
   ]
  },
  {
   "cell_type": "code",
   "execution_count": 10,
   "id": "847f94c1",
   "metadata": {},
   "outputs": [],
   "source": [
    "# Words we can remove from the list\n",
    "# 'up', 'down', 'in', 'out', 'on', 'off', 'no', 'not'\n",
    "\n",
    "lst_not_remove_words = ['up', 'down', 'in', 'out', 'on', 'off', 'no', 'not']"
   ]
  },
  {
   "cell_type": "code",
   "execution_count": 11,
   "id": "4bc694bb",
   "metadata": {},
   "outputs": [],
   "source": [
    "for each_word in lst_not_remove_words:\n",
    "    stop_words.remove(each_word)"
   ]
  },
  {
   "cell_type": "code",
   "execution_count": 12,
   "id": "95b92738",
   "metadata": {},
   "outputs": [],
   "source": [
    "lemmatizer = WordNetLemmatizer()"
   ]
  },
  {
   "cell_type": "code",
   "execution_count": 14,
   "id": "c3126b51",
   "metadata": {},
   "outputs": [],
   "source": [
    "review = \"\"\"\n",
    "I grew up (b. 1965) watching and loving the Thunderbirds. All my mates at school watched. We played \"Thunderbirds\" before school, during lunch and after school. We all wanted to be Virgil or Scott. No one wanted to be Alan. Counting down from 5 became an art form. I took my children to see the movie hoping they would get a glimpse of what I loved as a child. How bitterly disappointing. The only high point was the snappy theme tune. Not that it could compare with the original score of the Thunderbirds. Thankfully early Saturday mornings one television channel still plays reruns of the series Gerry Anderson and his wife created. Jonatha Frakes should hand in his directors chair, his version was completely hopeless. A waste of film. Utter rubbish. A CGI remake may be acceptable but replacing marionettes with Homo sapiens subsp. sapiens was a huge error of judgment.\n",
    "\"\"\""
   ]
  },
  {
   "cell_type": "code",
   "execution_count": 15,
   "id": "a2c6804d",
   "metadata": {},
   "outputs": [],
   "source": [
    "# Data Cleaning\n",
    "review = re.sub(re.compile('<.*?'), '', review) # Regex to remove < and >\n",
    "review = re.sub('[^A-Za-z0-9]+', ' ', review) # Regex to replace all except alphanumeric"
   ]
  },
  {
   "cell_type": "code",
   "execution_count": 16,
   "id": "8e13fa3e",
   "metadata": {},
   "outputs": [],
   "source": [
    "# Lowercase\n",
    "review = review.lower()"
   ]
  },
  {
   "cell_type": "code",
   "execution_count": 17,
   "id": "5024adcf",
   "metadata": {},
   "outputs": [],
   "source": [
    "# Tokenization\n",
    "tokens = nltk.word_tokenize(review)"
   ]
  },
  {
   "cell_type": "code",
   "execution_count": 18,
   "id": "5856d059",
   "metadata": {},
   "outputs": [],
   "source": [
    "# Stop word removal\n",
    "review = [word for word in tokens if word not in stop_words]"
   ]
  },
  {
   "cell_type": "code",
   "execution_count": 21,
   "id": "d62751ba",
   "metadata": {},
   "outputs": [],
   "source": [
    "# Lemmatization\n",
    "review = [lemmatizer.lemmatize(word) for word in review]"
   ]
  },
  {
   "cell_type": "code",
   "execution_count": 22,
   "id": "6f417384",
   "metadata": {},
   "outputs": [],
   "source": [
    "# Combine individual words to form a sentence\n",
    "review = ' '.join(review)"
   ]
  },
  {
   "cell_type": "code",
   "execution_count": 23,
   "id": "d444c082",
   "metadata": {},
   "outputs": [
    {
     "data": {
      "text/plain": [
       "'grew up b 1965 watching loving thunderbird mate school watched played thunderbird school lunch school wanted virgil scott no one wanted alan counting down 5 became art form took child see movie hoping would get glimpse loved child bitterly disappointing high point snappy theme tune not could compare original score thunderbird thankfully early saturday morning one television channel still play rerun series gerry anderson wife created jonatha frakes hand in director chair version completely hopeless waste film utter rubbish cgi remake may acceptable replacing marionette homo sapiens subsp sapiens huge error judgment'"
      ]
     },
     "execution_count": 23,
     "metadata": {},
     "output_type": "execute_result"
    }
   ],
   "source": [
    "review"
   ]
  },
  {
   "cell_type": "code",
   "execution_count": 24,
   "id": "d525a72d",
   "metadata": {},
   "outputs": [],
   "source": [
    "def data_pre_processing(review):\n",
    "    # Data Cleaning\n",
    "    review = re.sub(re.compile('<.*?'), '', review) # Regex to remove < and >\n",
    "    review = re.sub('[^A-Za-z0-9]+', ' ', review) # Regex to replace all except alphanumeric\n",
    "    \n",
    "    # Lowercase\n",
    "    review = review.lower()\n",
    "    \n",
    "    # Tokenization\n",
    "    tokens = nltk.word_tokenize(review)\n",
    "    \n",
    "    # Stop word removal\n",
    "    review = [word for word in tokens if word not in stop_words]\n",
    "    \n",
    "    # Lemmatization\n",
    "    # Converting a word to its root form but with one difference i.e the root word, in this case belongs to a valid word in the language\n",
    "    review = [lemmatizer.lemmatize(word) for word in review]\n",
    "    \n",
    "    # Combine individual words to form a sentence\n",
    "    review = ' '.join(review)\n",
    "    \n",
    "    return review"
   ]
  },
  {
   "cell_type": "code",
   "execution_count": 25,
   "id": "6d2773fa",
   "metadata": {
    "scrolled": true
   },
   "outputs": [
    {
     "data": {
      "text/html": [
       "<div>\n",
       "<style scoped>\n",
       "    .dataframe tbody tr th:only-of-type {\n",
       "        vertical-align: middle;\n",
       "    }\n",
       "\n",
       "    .dataframe tbody tr th {\n",
       "        vertical-align: top;\n",
       "    }\n",
       "\n",
       "    .dataframe thead th {\n",
       "        text-align: right;\n",
       "    }\n",
       "</style>\n",
       "<table border=\"1\" class=\"dataframe\">\n",
       "  <thead>\n",
       "    <tr style=\"text-align: right;\">\n",
       "      <th></th>\n",
       "      <th>text</th>\n",
       "      <th>label</th>\n",
       "    </tr>\n",
       "  </thead>\n",
       "  <tbody>\n",
       "    <tr>\n",
       "      <th>0</th>\n",
       "      <td>I grew up (b. 1965) watching and loving the Th...</td>\n",
       "      <td>0</td>\n",
       "    </tr>\n",
       "    <tr>\n",
       "      <th>1</th>\n",
       "      <td>When I put this movie in my DVD player, and sa...</td>\n",
       "      <td>0</td>\n",
       "    </tr>\n",
       "    <tr>\n",
       "      <th>2</th>\n",
       "      <td>Why do people who do not know what a particula...</td>\n",
       "      <td>0</td>\n",
       "    </tr>\n",
       "    <tr>\n",
       "      <th>3</th>\n",
       "      <td>Even though I have great interest in Biblical ...</td>\n",
       "      <td>0</td>\n",
       "    </tr>\n",
       "    <tr>\n",
       "      <th>4</th>\n",
       "      <td>Im a die hard Dads Army fan and nothing will e...</td>\n",
       "      <td>1</td>\n",
       "    </tr>\n",
       "  </tbody>\n",
       "</table>\n",
       "</div>"
      ],
      "text/plain": [
       "                                                text  label\n",
       "0  I grew up (b. 1965) watching and loving the Th...      0\n",
       "1  When I put this movie in my DVD player, and sa...      0\n",
       "2  Why do people who do not know what a particula...      0\n",
       "3  Even though I have great interest in Biblical ...      0\n",
       "4  Im a die hard Dads Army fan and nothing will e...      1"
      ]
     },
     "execution_count": 25,
     "metadata": {},
     "output_type": "execute_result"
    }
   ],
   "source": [
    "df_full.head()"
   ]
  },
  {
   "cell_type": "code",
   "execution_count": 26,
   "id": "9eb0fe54",
   "metadata": {},
   "outputs": [],
   "source": [
    "df_full['preprocessed_text'] = df_full['text'].apply(lambda review: data_pre_processing(review))"
   ]
  },
  {
   "cell_type": "code",
   "execution_count": 27,
   "id": "1871600e",
   "metadata": {},
   "outputs": [
    {
     "data": {
      "text/html": [
       "<div>\n",
       "<style scoped>\n",
       "    .dataframe tbody tr th:only-of-type {\n",
       "        vertical-align: middle;\n",
       "    }\n",
       "\n",
       "    .dataframe tbody tr th {\n",
       "        vertical-align: top;\n",
       "    }\n",
       "\n",
       "    .dataframe thead th {\n",
       "        text-align: right;\n",
       "    }\n",
       "</style>\n",
       "<table border=\"1\" class=\"dataframe\">\n",
       "  <thead>\n",
       "    <tr style=\"text-align: right;\">\n",
       "      <th></th>\n",
       "      <th>text</th>\n",
       "      <th>label</th>\n",
       "      <th>preprocessed_text</th>\n",
       "    </tr>\n",
       "  </thead>\n",
       "  <tbody>\n",
       "    <tr>\n",
       "      <th>0</th>\n",
       "      <td>I grew up (b. 1965) watching and loving the Th...</td>\n",
       "      <td>0</td>\n",
       "      <td>grew up b 1965 watching loving thunderbird mat...</td>\n",
       "    </tr>\n",
       "    <tr>\n",
       "      <th>1</th>\n",
       "      <td>When I put this movie in my DVD player, and sa...</td>\n",
       "      <td>0</td>\n",
       "      <td>put movie in dvd player sat down coke chip exp...</td>\n",
       "    </tr>\n",
       "    <tr>\n",
       "      <th>2</th>\n",
       "      <td>Why do people who do not know what a particula...</td>\n",
       "      <td>0</td>\n",
       "      <td>people not know particular time in past like f...</td>\n",
       "    </tr>\n",
       "    <tr>\n",
       "      <th>3</th>\n",
       "      <td>Even though I have great interest in Biblical ...</td>\n",
       "      <td>0</td>\n",
       "      <td>even though great interest in biblical movie b...</td>\n",
       "    </tr>\n",
       "    <tr>\n",
       "      <th>4</th>\n",
       "      <td>Im a die hard Dads Army fan and nothing will e...</td>\n",
       "      <td>1</td>\n",
       "      <td>im die hard dad army fan nothing ever change g...</td>\n",
       "    </tr>\n",
       "  </tbody>\n",
       "</table>\n",
       "</div>"
      ],
      "text/plain": [
       "                                                text  label  \\\n",
       "0  I grew up (b. 1965) watching and loving the Th...      0   \n",
       "1  When I put this movie in my DVD player, and sa...      0   \n",
       "2  Why do people who do not know what a particula...      0   \n",
       "3  Even though I have great interest in Biblical ...      0   \n",
       "4  Im a die hard Dads Army fan and nothing will e...      1   \n",
       "\n",
       "                                   preprocessed_text  \n",
       "0  grew up b 1965 watching loving thunderbird mat...  \n",
       "1  put movie in dvd player sat down coke chip exp...  \n",
       "2  people not know particular time in past like f...  \n",
       "3  even though great interest in biblical movie b...  \n",
       "4  im die hard dad army fan nothing ever change g...  "
      ]
     },
     "execution_count": 27,
     "metadata": {},
     "output_type": "execute_result"
    }
   ],
   "source": [
    "df_full.head()"
   ]
  },
  {
   "cell_type": "markdown",
   "id": "c1a704e1",
   "metadata": {},
   "source": [
    "##### Dataframe Splitting"
   ]
  },
  {
   "cell_type": "code",
   "execution_count": 28,
   "id": "53f7f12d",
   "metadata": {},
   "outputs": [],
   "source": [
    "data = df_full.copy()\n",
    "y = data['label'].values\n",
    "data.drop(('label'), axis=1, inplace=True)\n",
    "\n",
    "X_train,X_test,y_train, y_test=train_test_split(data, y, test_size=0.3, stratify=y)"
   ]
  },
  {
   "cell_type": "code",
   "execution_count": 29,
   "id": "00a36081",
   "metadata": {},
   "outputs": [
    {
     "data": {
      "text/plain": [
       "(28000, 2)"
      ]
     },
     "execution_count": 29,
     "metadata": {},
     "output_type": "execute_result"
    }
   ],
   "source": [
    "X_train.shape"
   ]
  },
  {
   "cell_type": "code",
   "execution_count": 30,
   "id": "ff3fc8ad",
   "metadata": {},
   "outputs": [
    {
     "data": {
      "text/plain": [
       "(12000, 2)"
      ]
     },
     "execution_count": 30,
     "metadata": {},
     "output_type": "execute_result"
    }
   ],
   "source": [
    "X_test.shape"
   ]
  },
  {
   "cell_type": "markdown",
   "id": "d71bdbc4",
   "metadata": {},
   "source": [
    "##### BOW Technique"
   ]
  },
  {
   "cell_type": "code",
   "execution_count": 32,
   "id": "ed92665c",
   "metadata": {},
   "outputs": [
    {
     "name": "stdout",
     "output_type": "stream",
     "text": [
      "X_train_review_bow shape :  (28000, 17336)\n",
      "X_test_review_bow shape :  (12000, 17336)\n"
     ]
    }
   ],
   "source": [
    "vect = CountVectorizer(min_df=10)\n",
    "X_train_review_bow = vect.fit_transform(X_train['preprocessed_text'])\n",
    "X_test_review_bow = vect.transform(X_test['preprocessed_text'])\n",
    "\n",
    "print('X_train_review_bow shape : ', X_train_review_bow.shape)\n",
    "print('X_test_review_bow shape : ', X_test_review_bow.shape)"
   ]
  },
  {
   "cell_type": "markdown",
   "id": "f420a84e",
   "metadata": {},
   "source": [
    "##### TF-IDF Technique\n"
   ]
  },
  {
   "cell_type": "code",
   "execution_count": 35,
   "id": "364a0fab",
   "metadata": {},
   "outputs": [],
   "source": [
    "vectorizer = TfidfVectorizer(min_df=10)\n",
    "X_train_review_tfidf = vectorizer.fit_transform(X_train['preprocessed_text'])\n",
    "X_test_review_tfidf = vectorizer.transform(X_test['preprocessed_text'])\n"
   ]
  },
  {
   "cell_type": "markdown",
   "id": "eb513b16",
   "metadata": {},
   "source": [
    "##### Building model based ML Classifier algo"
   ]
  },
  {
   "cell_type": "markdown",
   "id": "0b6e3542",
   "metadata": {},
   "source": [
    "##### Naive Bayes with reviews BOW encoded"
   ]
  },
  {
   "cell_type": "code",
   "execution_count": 37,
   "id": "0d675add",
   "metadata": {},
   "outputs": [
    {
     "name": "stdout",
     "output_type": "stream",
     "text": [
      "Test accuracy :  0.8483333333333334\n"
     ]
    }
   ],
   "source": [
    "clf = MultinomialNB()\n",
    "clf.fit(X_train_review_bow, y_train)\n",
    "\n",
    "y_pred = clf.predict(X_test_review_bow)\n",
    "print('Test accuracy : ', accuracy_score(y_test, y_pred))"
   ]
  },
  {
   "cell_type": "markdown",
   "id": "ddf906bf",
   "metadata": {},
   "source": [
    "##### Naive Bayes with reviews TF-IDF encoded"
   ]
  },
  {
   "cell_type": "code",
   "execution_count": 36,
   "id": "07cf3a5b",
   "metadata": {
    "scrolled": true
   },
   "outputs": [
    {
     "name": "stdout",
     "output_type": "stream",
     "text": [
      "Test accuracy :  0.8555\n"
     ]
    }
   ],
   "source": [
    "clf = MultinomialNB(alpha=1)\n",
    "clf.fit(X_train_review_tfidf, y_train)\n",
    "\n",
    "y_pred = clf.predict(X_test_review_tfidf)\n",
    "print('Test accuracy : ', accuracy_score(y_test, y_pred))"
   ]
  },
  {
   "cell_type": "code",
   "execution_count": 39,
   "id": "aaa0b99f",
   "metadata": {},
   "outputs": [
    {
     "name": "stdout",
     "output_type": "stream",
     "text": [
      "Test accuracy : 0.8888333333333334\n"
     ]
    }
   ],
   "source": [
    "clf = LogisticRegression()\n",
    "clf.fit(X_train_review_tfidf, y_train)\n",
    "\n",
    "y_pred = clf.predict(X_test_review_tfidf)\n",
    "print('Test accuracy :', accuracy_score(y_test, y_pred))"
   ]
  },
  {
   "cell_type": "markdown",
   "id": "06146569",
   "metadata": {},
   "source": [
    "##### Confusion Matrix"
   ]
  },
  {
   "cell_type": "code",
   "execution_count": 40,
   "id": "0da14d90",
   "metadata": {},
   "outputs": [
    {
     "data": {
      "image/png": "[encoded data removed]",
      "text/plain": [
       "<Figure size 360x216 with 2 Axes>"
      ]
     },
     "metadata": {
      "needs_background": "light"
     },
     "output_type": "display_data"
    }
   ],
   "source": [
    "cm = confusion_matrix(y_test, y_pred)\n",
    "plt.figure(figsize=(5,3))\n",
    "sns.heatmap(cm, annot=True, fmt='d')\n",
    "plt.title('Test Confusion Matrix')\n",
    "plt.show()\n"
   ]
  }
 ],
 "metadata": {
  "kernelspec": {
   "display_name": "Python 3 (ipykernel)",
   "language": "python",
   "name": "python3"
  },
  "language_info": {
   "codemirror_mode": {
    "name": "ipython",
    "version": 3
   },
   "file_extension": ".py",
   "mimetype": "text/x-python",
   "name": "python",
   "nbconvert_exporter": "python",
   "pygments_lexer": "ipython3",
   "version": "3.9.12"
  }
 },
 "nbformat": 4,
 "nbformat_minor": 5
}
